{
 "cells": [
  {
   "cell_type": "code",
   "execution_count": 33,
   "metadata": {},
   "outputs": [
    {
     "name": "stdout",
     "output_type": "stream",
     "text": [
      "Populating the interactive namespace from numpy and matplotlib\n"
     ]
    }
   ],
   "source": [
    "%pylab inline\n",
    "from astroML.density_estimation import KDE, KNeighborsDensity\n",
    "from astropy.io import fits\n",
    "from density_tools import density_peaks"
   ]
  },
  {
   "cell_type": "code",
   "execution_count": 34,
   "metadata": {},
   "outputs": [],
   "source": [
    "def read_data(data):\n",
    "    leo1 = fits.open(data)\n",
    "    t = leo1[1].data\n",
    "    ra_leo1 = t['ra']\n",
    "    dec_leo1 = t['dec']\n",
    "    return ra_leo1, dec_leo1"
   ]
  },
  {
   "cell_type": "code",
   "execution_count": 35,
   "metadata": {},
   "outputs": [],
   "source": [
    "ra_leo1, dec_leo1 = read_data('../data/sdss_fields/draco.fits')"
   ]
  },
  {
   "cell_type": "code",
   "execution_count": 36,
   "metadata": {
    "collapsed": true
   },
   "outputs": [],
   "source": [
    "def NN_bayesian_density(x, y, NN, grid_size):\n",
    "    \"\"\"\n",
    "    Function to compute the density of a distribution of particles using the K-Nearest Neighboors\n",
    "    method from: http://www.astroml.org/modules/generated/astroML.density_estimation.KNeighborsDensity.html#astroML.density_estimation.KNeighborsDensity\n",
    "    \n",
    "    See Ivezic 10? for the details on how the algorithm works.\n",
    "    \n",
    "    Input:\n",
    "    ------\n",
    "    x : 1D numpy.array\n",
    "        Array with the x-coordinates of the data.\n",
    "    y : 1D numpy.array\n",
    "        Array with the y-coordinates of the data.\n",
    "    NN : int\n",
    "        Number of neighboors to compute the desnity.\n",
    "    grid_size : int\n",
    "        Grid size in which the density is going to be evaluated.\n",
    "        \n",
    "    \"\"\"\n",
    "    assert len(x)==len(y), \"Input data have different size\"\n",
    "    assert type(NN) == int, \"NN should be of type int\"\n",
    "    assert type(grid_size) == int, \"grid_zise should be of type int\"\n",
    "    \n",
    "    # Grid parameters\n",
    "    Nx = grid_size\n",
    "    Ny = grid_size\n",
    "    xmin, xmax = (min(x), max(x))\n",
    "    ymin, ymax = (min(y), max(y))\n",
    "\n",
    "    # Making a grid\n",
    "    Xgrid = np.vstack(map(np.ravel, np.meshgrid(np.linspace(xmin, xmax, Nx),\n",
    "                                                np.linspace(ymin, ymax, Ny)))).T\n",
    "    # Putting data in 2d-array\n",
    "    X = np.array([x, y]).T\n",
    "    \n",
    "    # Computing the density\n",
    "    knn = KNeighborsDensity('bayesian', NN)\n",
    "    dens_KNN = knn.fit(X).eval(Xgrid).reshape((Ny, Nx))\n",
    "    \n",
    "    return dens_KNN\n",
    "\n",
    "    \n",
    "    "
   ]
  },
  {
   "cell_type": "code",
   "execution_count": 44,
   "metadata": {},
   "outputs": [],
   "source": [
    "dens_leo1 = NN_bayesian_density(ra_leo1, dec_leo1, 20, 500)"
   ]
  },
  {
   "cell_type": "code",
   "execution_count": 47,
   "metadata": {},
   "outputs": [
    {
     "data": {
      "image/png": "[encoded data removed]",
      "text/plain": [
       "<matplotlib.figure.Figure at 0x7f8e2a7c5710>"
      ]
     },
     "metadata": {},
     "output_type": "display_data"
    }
   ],
   "source": [
    "density_peaks(dens_leo1, 10, 2)"
   ]
  },
  {
   "cell_type": "code",
   "execution_count": null,
   "metadata": {
    "collapsed": true
   },
   "outputs": [],
   "source": []
  },
  {
   "cell_type": "code",
   "execution_count": null,
   "metadata": {
    "collapsed": true
   },
   "outputs": [],
   "source": []
  }
 ],
 "metadata": {
  "kernelspec": {
   "display_name": "Python 3",
   "language": "python",
   "name": "python3"
  },
  "language_info": {
   "codemirror_mode": {
    "name": "ipython",
    "version": 3
   },
   "file_extension": ".py",
   "mimetype": "text/x-python",
   "name": "python",
   "nbconvert_exporter": "python",
   "pygments_lexer": "ipython3",
   "version": "3.5.2"
  }
 },
 "nbformat": 4,
 "nbformat_minor": 2
}
